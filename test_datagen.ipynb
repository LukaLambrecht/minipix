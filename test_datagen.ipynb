{
 "cells": [
  {
   "cell_type": "code",
   "execution_count": null,
   "id": "6fe4e96e",
   "metadata": {},
   "outputs": [],
   "source": [
    "### imports\n",
    "\n",
    "# external modules\n",
    "import os\n",
    "import sys\n",
    "import matplotlib.pyplot as plt\n",
    "import importlib\n",
    "\n",
    "# internal modules\n",
    "sys.path.append('datagen')\n",
    "import datagen\n",
    "importlib.reload(datagen)"
   ]
  },
  {
   "cell_type": "code",
   "execution_count": null,
   "id": "64364699",
   "metadata": {},
   "outputs": [],
   "source": [
    "### test 'blob'-like objects\n",
    "\n",
    "image_size = (256,256)\n",
    "objects = {'blob':{1:10, 2:5, 10:3}}\n",
    "\n",
    "im = datagen.generate_image( image_size=image_size, objects=objects )\n",
    "\n",
    "fig,ax = plt.subplots( figsize=(12,12) )\n",
    "ax.imshow( im, cmap='gray' )"
   ]
  },
  {
   "cell_type": "code",
   "execution_count": null,
   "id": "7af70063",
   "metadata": {},
   "outputs": [],
   "source": [
    "### test 'line'-like objects\n",
    "\n",
    "image_size = (256,256)\n",
    "objects = {'line':{15:10}}\n",
    "\n",
    "im = datagen.generate_image( image_size=image_size, objects=objects )\n",
    "\n",
    "fig,ax = plt.subplots( figsize=(12,12) )\n",
    "ax.imshow( im, cmap='gray' )"
   ]
  },
  {
   "cell_type": "code",
   "execution_count": null,
   "id": "e8aaecef",
   "metadata": {},
   "outputs": [],
   "source": [
    "### test 'curve'-like objects\n",
    "\n",
    "image_size = (256,256)\n",
    "objects = {'curve':{(15,0.25):10}}\n",
    "\n",
    "im = datagen.generate_image( image_size=image_size, objects=objects )\n",
    "\n",
    "fig,ax = plt.subplots( figsize=(12,12) )\n",
    "ax.imshow( im, cmap='gray' )"
   ]
  }
 ],
 "metadata": {
  "kernelspec": {
   "display_name": "Python 3",
   "language": "python",
   "name": "python3"
  },
  "language_info": {
   "codemirror_mode": {
    "name": "ipython",
    "version": 3
   },
   "file_extension": ".py",
   "mimetype": "text/x-python",
   "name": "python",
   "nbconvert_exporter": "python",
   "pygments_lexer": "ipython3",
   "version": "3.9.12"
  }
 },
 "nbformat": 4,
 "nbformat_minor": 5
}
