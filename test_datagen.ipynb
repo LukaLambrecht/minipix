{
 "cells": [
  {
   "cell_type": "code",
   "execution_count": null,
   "id": "6fe4e96e",
   "metadata": {},
   "outputs": [],
   "source": [
    "### imports\n",
    "\n",
    "# external modules\n",
    "import matplotlib.pyplot as plt\n",
    "import importlib\n",
    "\n",
    "# internal modules\n",
    "import datagen\n",
    "importlib.reload(datagen)"
   ]
  },
  {
   "cell_type": "code",
   "execution_count": null,
   "id": "64364699",
   "metadata": {},
   "outputs": [],
   "source": [
    "### settings\n",
    "\n",
    "image_size = (256,256)\n",
    "objects = {1:10, 2:5}"
   ]
  },
  {
   "cell_type": "code",
   "execution_count": null,
   "id": "7af70063",
   "metadata": {},
   "outputs": [],
   "source": [
    "### make and plot an image\n",
    "\n",
    "im = datagen.generate_image( image_size=image_size, objects=objects )\n",
    "\n",
    "fig,ax = plt.subplots( figsize=(12,12) )\n",
    "ax.imshow( im, cmap='gray' )"
   ]
  },
  {
   "cell_type": "code",
   "execution_count": null,
   "id": "a905fc99",
   "metadata": {},
   "outputs": [],
   "source": []
  }
 ],
 "metadata": {
  "kernelspec": {
   "display_name": "Python 3",
   "language": "python",
   "name": "python3"
  },
  "language_info": {
   "codemirror_mode": {
    "name": "ipython",
    "version": 3
   },
   "file_extension": ".py",
   "mimetype": "text/x-python",
   "name": "python",
   "nbconvert_exporter": "python",
   "pygments_lexer": "ipython3",
   "version": "3.9.6"
  }
 },
 "nbformat": 4,
 "nbformat_minor": 5
}
