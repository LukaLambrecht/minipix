{
 "cells": [
  {
   "cell_type": "code",
   "execution_count": null,
   "id": "3007f3ce",
   "metadata": {},
   "outputs": [],
   "source": [
    "### imports\n",
    "\n",
    "# external modules\n",
    "import matplotlib.pyplot as plt\n",
    "import matplotlib as mpl\n",
    "import importlib\n",
    "\n",
    "# internal modules\n",
    "import datagen\n",
    "importlib.reload(datagen)\n",
    "import count_objects\n",
    "importlib.reload(count_objects)"
   ]
  },
  {
   "cell_type": "code",
   "execution_count": null,
   "id": "ea648039",
   "metadata": {},
   "outputs": [],
   "source": [
    "### generate an image and count the objects in it\n",
    "\n",
    "# generate image\n",
    "image_size = (256,256)\n",
    "objects = {1:10, 2:5}\n",
    "im = datagen.generate_image( image_size=image_size, objects=objects )\n",
    "\n",
    "# count objects\n",
    "object_coords = count_objects.count_objects_simple(im)\n",
    "\n",
    "# compare counts to true values\n",
    "ntrue = sum(objects.values())\n",
    "nreco = len(object_coords)\n",
    "print('True number of objects: {}'.format(ntrue))\n",
    "print('Reconstructed number of objects: {}'.format(nreco))\n",
    "\n",
    "# make a plot\n",
    "fig,ax = plt.subplots( figsize=(12,12) )\n",
    "ax.imshow( im, cmap='gray' )\n",
    "for coord in object_coords:\n",
    "    boxhalfwidth = 5\n",
    "    patchxcoord = coord[1]\n",
    "    patchycoord = coord[0]\n",
    "    anchor = (patchxcoord-boxhalfwidth,patchycoord-boxhalfwidth)\n",
    "    box = mpl.patches.Rectangle(anchor, 2*boxhalfwidth, 2*boxhalfwidth,\n",
    "                               edgecolor='r', facecolor=(0,0,0,0))\n",
    "    ax.add_patch(box)"
   ]
  },
  {
   "cell_type": "code",
   "execution_count": null,
   "id": "afd5b2d3",
   "metadata": {},
   "outputs": [],
   "source": []
  }
 ],
 "metadata": {
  "kernelspec": {
   "display_name": "Python 3",
   "language": "python",
   "name": "python3"
  },
  "language_info": {
   "codemirror_mode": {
    "name": "ipython",
    "version": 3
   },
   "file_extension": ".py",
   "mimetype": "text/x-python",
   "name": "python",
   "nbconvert_exporter": "python",
   "pygments_lexer": "ipython3",
   "version": "3.9.6"
  }
 },
 "nbformat": 4,
 "nbformat_minor": 5
}
