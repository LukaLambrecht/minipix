{
 "cells": [
  {
   "cell_type": "code",
   "execution_count": null,
   "id": "a3fda914",
   "metadata": {},
   "outputs": [],
   "source": [
    "### imports\n",
    "\n",
    "# external modules\n",
    "import sys\n",
    "import os\n",
    "import numpy as np\n",
    "from numpy.random import default_rng\n",
    "import tensorflow as tf\n",
    "from tensorflow.keras import layers, models\n",
    "import matplotlib.pyplot as plt"
   ]
  },
  {
   "cell_type": "code",
   "execution_count": null,
   "id": "011c02ef",
   "metadata": {},
   "outputs": [],
   "source": [
    "### load the data\n",
    "\n",
    "name = 'data_s32x32_n10k'\n",
    "dataname = name+'_images.npy'\n",
    "with open(dataname,'rb') as f:\n",
    "    ims = np.load( f )\n",
    "labelname = name+'_labels.npy'\n",
    "with open(labelname,'rb') as f:\n",
    "    ntrue = np.load( f )\n",
    "print('loaded data \"{}\" of shape {}'.format(dataname,ims.shape))\n",
    "print('loaded labels \"{}\" of shape {}'.format(labelname,ntrue.shape))"
   ]
  },
  {
   "cell_type": "code",
   "execution_count": null,
   "id": "a7800109",
   "metadata": {},
   "outputs": [],
   "source": [
    "### process data\n",
    "\n",
    "image_size = ims[0].shape\n",
    "nimages = len(ims)\n",
    "ntrain = int(nimages*0.8)\n",
    "ims_train = ims[:ntrain]\n",
    "ims_train = ims_train.reshape(-1, image_size[0], image_size[1], 1)\n",
    "ntrue_train = ntrue[:ntrain]\n",
    "ims_test = ims[ntrain:]\n",
    "ims_test = ims_test.reshape(-1, image_size[0], image_size[1], 1)\n",
    "ntrue_test = ntrue[ntrain:]\n",
    "print('image size: {}'.format(image_size))\n",
    "print('number of training images: {}'.format(len(ims_train)))\n",
    "print('number of testing images: {}'.format(len(ims_test)))"
   ]
  },
  {
   "cell_type": "code",
   "execution_count": null,
   "id": "135e001f",
   "metadata": {},
   "outputs": [],
   "source": [
    "### define the convolutional network\n",
    "\n",
    "model = models.Sequential()\n",
    "model.add(layers.Conv2D(32, (3, 3), activation='relu', input_shape=(image_size[0], image_size[1], 1)))\n",
    "model.add(layers.MaxPooling2D((2, 2)))\n",
    "model.add(layers.Conv2D(64, (3, 3), activation='relu'))\n",
    "model.add(layers.MaxPooling2D((2, 2)))\n",
    "model.add(layers.Conv2D(16, (3, 3), activation='relu'))\n",
    "model.add(layers.Flatten())\n",
    "model.add(layers.Dense(16, activation='relu'))\n",
    "model.add(layers.Dense(1))\n",
    "\n",
    "model.summary()\n",
    "\n",
    "model.compile(optimizer='adam', loss='mse')"
   ]
  },
  {
   "cell_type": "code",
   "execution_count": null,
   "id": "dba947fd",
   "metadata": {},
   "outputs": [],
   "source": [
    "### define plotting functions\n",
    "\n",
    "def plot_model_prediction(datalist, labellist=None, colorlist=None,\n",
    "                          xaxtitle='Predicted minus true count', xaxtitlesize=None, \n",
    "                          yaxtitle='Number of instances (normalized)', yaxtitlesize=None):\n",
    "    \n",
    "    fig,axs = plt.subplots(nrows=1, ncols=2, squeeze=False, figsize=(12,6))\n",
    "    \n",
    "    # make plot of absolute difference\n",
    "    halfwindow = 5\n",
    "    bins = np.arange(-halfwindow-0.5,halfwindow+0.5,1)\n",
    "    ax = axs[0,0]\n",
    "    for i,(npred,ntrue) in enumerate(datalist):\n",
    "        diff = npred-ntrue\n",
    "        ax.hist(diff, bins=bins, histtype='step', linewidth=3,\n",
    "                label=labellist[i], color=colorlist[i], \n",
    "                density=True)\n",
    "    ax.set_xticks(np.arange(-halfwindow,halfwindow,1))\n",
    "    ax.legend()\n",
    "    if xaxtitle is not None: ax.set_xlabel(xaxtitle, fontsize=xaxtitlesize)\n",
    "    if yaxtitle is not None: ax.set_ylabel(yaxtitle, fontsize=yaxtitlesize)\n",
    "    \n",
    "    # make plot of relative difference\n",
    "    relbins = np.linspace(0, 2, num=20)\n",
    "    ax = axs[0,1]\n",
    "    for i,(npred,ntrue) in enumerate(datalist):\n",
    "        reldiff = np.where(ntrue<1, 0, np.abs(np.divide(npred-ntrue,ntrue)))\n",
    "        ax.hist(reldiff, bins=relbins, histtype='step', linewidth=3,\n",
    "                label=labellist[i], color=colorlist[i], \n",
    "                density=True)\n",
    "    ax.legend()\n",
    "    if xaxtitle is not None: ax.set_xlabel(xaxtitle+' (relative)', fontsize=xaxtitlesize)\n",
    "    if yaxtitle is not None: ax.set_ylabel(yaxtitle, fontsize=yaxtitlesize)\n",
    "    return (fig,ax)\n",
    "\n",
    "def plot_loss(data, xlims=None,\n",
    "              title=None, titlesize=None, \n",
    "              xaxtitle='Epoch', xaxtitlesize=None, \n",
    "              yaxtitle='Loss', yaxtitlesize=None,\n",
    "              legendsize=None, legendloc='best',\n",
    "              doshow=True):\n",
    "    ### plot the training and validation loss of a keras/tensorflow model\n",
    "    # input arguments:\n",
    "    # - data: the object returned by the .fit method when called upon a keras model\n",
    "    # - other: plot layout options\n",
    "    fig,ax = plt.subplots()\n",
    "    if 'loss' in data.history.keys(): ax.plot(data.history['loss'], linestyle=(0,()), color=\"#1A237E\", linewidth=3, label='Training')\n",
    "    if 'val_loss' in data.history.keys(): ax.plot(data.history['val_loss'], linestyle=(0,(3,2)), color=\"#4DB6AC\", linewidth=3, label='Validation')\n",
    "    ax.legend(loc=legendloc, fontsize=legendsize)\n",
    "    ax.set_yscale('log')\n",
    "    if xlims is not None: ax.set_xlim(xlims)\n",
    "    if title is not None: ax.set_title(title, fontsize=legendsize)\n",
    "    if xaxtitle is not None: ax.set_xlabel(xaxtitle, fontsize=xaxtitlesize)\n",
    "    if yaxtitle is not None: ax.set_ylabel(yaxtitle, fontsize=yaxtitlesize)\n",
    "    if doshow: plt.show(block=False)\n",
    "    return (fig,ax)"
   ]
  },
  {
   "cell_type": "code",
   "execution_count": null,
   "id": "8e14ecd2",
   "metadata": {},
   "outputs": [],
   "source": [
    "### make a plot of the model prediction before training\n",
    "\n",
    "npred_train = np.squeeze(model.predict( ims_train ))\n",
    "npred_test = np.squeeze(model.predict( ims_test ))\n",
    "\n",
    "fig,axs = plot_model_prediction( datalist=[(npred_train,ntrue_train),(npred_test,ntrue_test)],\n",
    "                                 labellist = ['Training','Testing'],\n",
    "                                 colorlist = ['b','m'] )"
   ]
  },
  {
   "cell_type": "code",
   "execution_count": null,
   "id": "f205d2b5",
   "metadata": {},
   "outputs": [],
   "source": [
    "### do the training\n",
    "\n",
    "history = model.fit(ims_train, ntrue_train, epochs=10, validation_split=0.2)\n",
    "fig,ax = plot_loss(history)"
   ]
  },
  {
   "cell_type": "code",
   "execution_count": null,
   "id": "2c34e16d",
   "metadata": {},
   "outputs": [],
   "source": [
    "### make a plot of the model prediction after training\n",
    "\n",
    "npred_train = np.squeeze(model.predict( ims_train ))\n",
    "npred_test = np.squeeze(model.predict( ims_test ))\n",
    "\n",
    "fig,axs = plot_model_prediction( datalist=[(npred_train,ntrue_train),(npred_test,ntrue_test)],\n",
    "                                 labellist = ['Training','Testing'],\n",
    "                                 colorlist = ['b','m'] )"
   ]
  },
  {
   "cell_type": "code",
   "execution_count": null,
   "id": "b56cfa20",
   "metadata": {},
   "outputs": [],
   "source": [
    "### plot some examples\n",
    "\n",
    "nplot = 5\n",
    "rng = default_rng()\n",
    "inds = rng.integers(low=0, high=len(ims_test), size=nplot)\n",
    "for indx in inds:\n",
    "    fig,ax = plt.subplots( figsize=(6,6) )\n",
    "    ax.imshow( ims_test[indx], cmap='gray' )\n",
    "    plt.show()\n",
    "    print('Precicted count: {}, true count: {}'.format(int(round(npred_test[indx])),int(ntrue_test[indx])))"
   ]
  },
  {
   "cell_type": "code",
   "execution_count": null,
   "id": "7ff93115",
   "metadata": {},
   "outputs": [],
   "source": []
  }
 ],
 "metadata": {
  "kernelspec": {
   "display_name": "Python 3",
   "language": "python",
   "name": "python3"
  },
  "language_info": {
   "codemirror_mode": {
    "name": "ipython",
    "version": 3
   },
   "file_extension": ".py",
   "mimetype": "text/x-python",
   "name": "python",
   "nbconvert_exporter": "python",
   "pygments_lexer": "ipython3",
   "version": "3.9.6"
  }
 },
 "nbformat": 4,
 "nbformat_minor": 5
}
