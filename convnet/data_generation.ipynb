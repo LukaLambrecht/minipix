{
 "cells": [
  {
   "cell_type": "code",
   "execution_count": null,
   "id": "972fd5ca",
   "metadata": {},
   "outputs": [],
   "source": [
    "### imports\n",
    "\n",
    "# external modules\n",
    "import sys\n",
    "import os\n",
    "import numpy as np\n",
    "from numpy.random import default_rng\n",
    "import matplotlib.pyplot as plt\n",
    "\n",
    "# local modules\n",
    "sys.path.append('../')\n",
    "import datagen"
   ]
  },
  {
   "cell_type": "code",
   "execution_count": null,
   "id": "78bfdc86",
   "metadata": {},
   "outputs": [],
   "source": [
    "### settings\n",
    "\n",
    "nimages = 10000\n",
    "image_size = (32,32)\n",
    "rng = default_rng()"
   ]
  },
  {
   "cell_type": "code",
   "execution_count": null,
   "id": "777e4399",
   "metadata": {},
   "outputs": [],
   "source": [
    "### determine number of objects stochastically\n",
    "\n",
    "def get_obj_dict():\n",
    "    sizes = [1,2,3]\n",
    "    nmax = 5\n",
    "    nsizes = rng.integers(low=0, high=nmax, size=len(sizes))\n",
    "    sizedict = {}\n",
    "    for size,nsize in zip(sizes,nsizes):\n",
    "        sizedict[size] = nsize\n",
    "    objects = {'blob':sizedict}\n",
    "    return objects"
   ]
  },
  {
   "cell_type": "code",
   "execution_count": null,
   "id": "0205b150",
   "metadata": {},
   "outputs": [],
   "source": [
    "### generate images\n",
    "\n",
    "ims = np.zeros((nimages, image_size[0], image_size[1]))\n",
    "ntrue = np.zeros(nimages)\n",
    "for i in range(nimages):\n",
    "    if i%100==0: print('generating image {} of {}...'.format(i+1,nimages)) \n",
    "    objects = get_obj_dict()\n",
    "    ntrue[i] = sum(objects['blob'].values())\n",
    "    ims[i,:,:] = datagen.generate_image( image_size=image_size, objects=objects )\n",
    "print('done')\n",
    "print(ims.shape)"
   ]
  },
  {
   "cell_type": "code",
   "execution_count": null,
   "id": "5abeef13",
   "metadata": {},
   "outputs": [],
   "source": [
    "### plot some examples\n",
    "\n",
    "nplot = 5\n",
    "inds = rng.integers(low=0, high=nimages, size=nplot)\n",
    "for indx in inds:\n",
    "    fig,ax = plt.subplots( figsize=(6,6) )\n",
    "    ax.imshow( ims[indx], cmap='gray' )\n",
    "    plt.show()\n",
    "    print(ntrue[indx])"
   ]
  },
  {
   "cell_type": "code",
   "execution_count": null,
   "id": "6865ee39",
   "metadata": {},
   "outputs": [],
   "source": [
    "### save the result\n",
    "\n",
    "name = 'data_s32x32_n10k'\n",
    "dataname = name+'_images.npy'\n",
    "with open(dataname,'wb') as f:\n",
    "    np.save( f, ims )\n",
    "labelname = name+'_labels.npy'\n",
    "with open(labelname,'wb') as f:\n",
    "    np.save( f, ntrue )"
   ]
  },
  {
   "cell_type": "code",
   "execution_count": null,
   "id": "01954e55",
   "metadata": {},
   "outputs": [],
   "source": []
  }
 ],
 "metadata": {
  "kernelspec": {
   "display_name": "Python 3",
   "language": "python",
   "name": "python3"
  },
  "language_info": {
   "codemirror_mode": {
    "name": "ipython",
    "version": 3
   },
   "file_extension": ".py",
   "mimetype": "text/x-python",
   "name": "python",
   "nbconvert_exporter": "python",
   "pygments_lexer": "ipython3",
   "version": "3.9.6"
  }
 },
 "nbformat": 4,
 "nbformat_minor": 5
}
