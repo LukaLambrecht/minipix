{
 "cells": [
  {
   "cell_type": "code",
   "execution_count": null,
   "id": "fb0b8a47",
   "metadata": {},
   "outputs": [],
   "source": [
    "### imports\n",
    "import EVIFile as evi\n",
    "import importlib\n",
    "importlib.reload(evi)"
   ]
  },
  {
   "cell_type": "code",
   "execution_count": null,
   "id": "f2ad4446",
   "metadata": {},
   "outputs": [],
   "source": [
    "### set filename and other settings\n",
    "filename = 'example1.EVI'\n",
    "frame_inds = [0]"
   ]
  },
  {
   "cell_type": "code",
   "execution_count": null,
   "id": "0e681165",
   "metadata": {},
   "outputs": [],
   "source": [
    "evif = evi.EVIRead(filename)\n",
    "print(evif.shape())\n",
    "evif.print_header()\n",
    "evif.show(frame_inds=frame_inds)"
   ]
  },
  {
   "cell_type": "code",
   "execution_count": null,
   "id": "795aadec",
   "metadata": {},
   "outputs": [],
   "source": []
  }
 ],
 "metadata": {
  "kernelspec": {
   "display_name": "Python 3",
   "language": "python",
   "name": "python3"
  },
  "language_info": {
   "codemirror_mode": {
    "name": "ipython",
    "version": 3
   },
   "file_extension": ".py",
   "mimetype": "text/x-python",
   "name": "python",
   "nbconvert_exporter": "python",
   "pygments_lexer": "ipython3",
   "version": "3.9.6"
  }
 },
 "nbformat": 4,
 "nbformat_minor": 5
}
